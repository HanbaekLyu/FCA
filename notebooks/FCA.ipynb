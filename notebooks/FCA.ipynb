{
 "cells": [
  {
   "cell_type": "code",
   "execution_count": 1,
   "metadata": {},
   "outputs": [],
   "source": [
    "import matplotlib.pyplot as plt\n",
    "import numpy as np\n",
    "plt.rcParams['font.family'] = 'serif'\n",
    "plt.rcParams['font.serif'] = ['Times New Roman'] + plt.rcParams['font.serif']"
   ]
  },
  {
   "cell_type": "code",
   "execution_count": 2,
   "metadata": {},
   "outputs": [],
   "source": [
    "def ini_config(shape=[1, 10], p=0.3):\n",
    "    X = np.zeros(shape=shape)\n",
    "    for i in np.arange(shape[0]):\n",
    "        for j in np.arange(shape[1]):\n",
    "            if np.random.rand()<p:\n",
    "                X[i,j] = 1\n",
    "    return X"
   ]
  },
  {
   "cell_type": "code",
   "execution_count": 3,
   "metadata": {},
   "outputs": [],
   "source": [
    "kappa =5 "
   ]
  },
  {
   "cell_type": "code",
   "execution_count": 4,
   "metadata": {},
   "outputs": [
    {
     "data": {
      "text/plain": [
       "0"
      ]
     },
     "execution_count": 4,
     "metadata": {},
     "output_type": "execute_result"
    }
   ],
   "source": [
    "(4+1) % 5"
   ]
  },
  {
   "cell_type": "code",
   "execution_count": 5,
   "metadata": {},
   "outputs": [],
   "source": [
    "def FCA_update_single(X, kappa=5, b=2, periodic_bdry=True): \n",
    "    '''\n",
    "    X = array of shape [L, n]\n",
    "    ''' \n",
    "    n = len(X)\n",
    "    X_new = (X.copy()+1) % kappa\n",
    "    for i in np.arange(len(X)):\n",
    "        if b>=kappa:\n",
    "            l = np.arange(0,kappa)\n",
    "        else:\n",
    "            l = np.arange(1,b+1)\n",
    "            \n",
    "        if X[i] in l:\n",
    "            if (i>0 and X[i-1]==0) or (i<len(X)-1 and X[i+1]==0):\n",
    "                X_new[i] = X[i]\n",
    "            if periodic_bdry and ((i>0 and X[i-1 % n]==0) or (i<len(X)-1 and X[i+1 % n]==0)):\n",
    "                X_new[i] = X[i]\n",
    "\n",
    "    return X_new "
   ]
  },
  {
   "cell_type": "code",
   "execution_count": 6,
   "metadata": {},
   "outputs": [],
   "source": [
    "X = np.random.randint(0,kappa, 10)"
   ]
  },
  {
   "cell_type": "code",
   "execution_count": 7,
   "metadata": {},
   "outputs": [],
   "source": [
    "#X2 = np.array([0,0,0,0,1,1,1,1,0,0,0,0,0,2,2,2,2,2,2])"
   ]
  },
  {
   "cell_type": "code",
   "execution_count": 32,
   "metadata": {},
   "outputs": [],
   "source": [
    "#X = X_list[0] # initial config\n",
    "kappa=5\n",
    "b = 2\n",
    "L = 100\n",
    "X1 = np.random.randint(0,kappa, L)\n",
    "#X = np.hstack((X2, X1, X2))\n",
    "X = X1\n",
    "iter_total = 300\n",
    "\n",
    "X_stacked = []\n",
    "X_stacked.append(X)\n",
    "particle_counts = []\n",
    "for t in np.arange(iter_total):\n",
    "    X = FCA_update_single(X, kappa=kappa, b=b, periodic_bdry=True)\n",
    "    if t % (kappa) == 0:\n",
    "        X_stacked.append(X)\n",
    "        count = np.zeros(len(X), dtype='int')\n",
    "        \n",
    "X_stacked = np.asarray(X_stacked)"
   ]
  },
  {
   "cell_type": "code",
   "execution_count": 33,
   "metadata": {},
   "outputs": [
    {
     "data": {
      "text/plain": [
       "(61, 100)"
      ]
     },
     "execution_count": 33,
     "metadata": {},
     "output_type": "execute_result"
    }
   ],
   "source": [
    "X_stacked.shape"
   ]
  },
  {
   "cell_type": "code",
   "execution_count": 34,
   "metadata": {},
   "outputs": [
    {
     "data": {
      "text/plain": [
       "<matplotlib.colorbar.Colorbar at 0x7f91285adcd0>"
      ]
     },
     "execution_count": 34,
     "metadata": {},
     "output_type": "execute_result"
    },
    {
     "data": {
      "image/png": "[encoded data removed]",
      "text/plain": [
       "<Figure size 1080x720 with 2 Axes>"
      ]
     },
     "metadata": {
      "needs_background": "light"
     },
     "output_type": "display_data"
    }
   ],
   "source": [
    "\n",
    "\n",
    "fig, ax = plt.subplots(nrows=1, ncols=1, figsize=[15,10])\n",
    "im = ax.imshow(X_stacked, cmap = 'viridis_r')\n",
    "cbar_ax = fig.add_axes([0.92, 0.15, 0.01, 0.7])\n",
    "fig.colorbar(im, cax=cbar_ax)\n"
   ]
  },
  {
   "cell_type": "code",
   "execution_count": 19,
   "metadata": {},
   "outputs": [
    {
     "name": "stdout",
     "output_type": "stream",
     "text": [
      "count 0\n",
      "count 0\n"
     ]
    },
    {
     "ename": "IndexError",
     "evalue": "list index out of range",
     "output_type": "error",
     "traceback": [
      "\u001b[0;31m---------------------------------------------------------------------------\u001b[0m",
      "\u001b[0;31mIndexError\u001b[0m                                Traceback (most recent call last)",
      "\u001b[0;32m<ipython-input-19-eb8cec24745f>\u001b[0m in \u001b[0;36m<module>\u001b[0;34m\u001b[0m\n\u001b[1;32m     18\u001b[0m         \u001b[0;32mif\u001b[0m \u001b[0mt\u001b[0m\u001b[0;34m>=\u001b[0m \u001b[0mkappa\u001b[0m\u001b[0;34m:\u001b[0m\u001b[0;34m\u001b[0m\u001b[0;34m\u001b[0m\u001b[0m\n\u001b[1;32m     19\u001b[0m             \u001b[0;32mfor\u001b[0m \u001b[0mi\u001b[0m \u001b[0;32min\u001b[0m \u001b[0mnp\u001b[0m\u001b[0;34m.\u001b[0m\u001b[0marange\u001b[0m\u001b[0;34m(\u001b[0m\u001b[0;36m1\u001b[0m\u001b[0;34m,\u001b[0m\u001b[0mlen\u001b[0m\u001b[0;34m(\u001b[0m\u001b[0mX\u001b[0m\u001b[0;34m)\u001b[0m\u001b[0;34m)\u001b[0m\u001b[0;34m:\u001b[0m\u001b[0;34m\u001b[0m\u001b[0;34m\u001b[0m\u001b[0m\n\u001b[0;32m---> 20\u001b[0;31m                 \u001b[0;32mif\u001b[0m \u001b[0;34m(\u001b[0m\u001b[0mX_stacked\u001b[0m\u001b[0;34m[\u001b[0m\u001b[0;34m-\u001b[0m\u001b[0mkappa\u001b[0m\u001b[0;34m-\u001b[0m\u001b[0;36m1\u001b[0m\u001b[0;34m]\u001b[0m\u001b[0;34m[\u001b[0m\u001b[0mi\u001b[0m\u001b[0;34m]\u001b[0m \u001b[0;34m!=\u001b[0m \u001b[0mX\u001b[0m\u001b[0;34m[\u001b[0m\u001b[0mi\u001b[0m\u001b[0;34m]\u001b[0m\u001b[0;34m)\u001b[0m \u001b[0;32mand\u001b[0m \u001b[0;34m(\u001b[0m\u001b[0mX\u001b[0m\u001b[0;34m[\u001b[0m\u001b[0mi\u001b[0m\u001b[0;34m]\u001b[0m\u001b[0;34m!=\u001b[0m\u001b[0;36m1\u001b[0m\u001b[0;34m)\u001b[0m\u001b[0;34m:\u001b[0m\u001b[0;34m\u001b[0m\u001b[0;34m\u001b[0m\u001b[0m\n\u001b[0m\u001b[1;32m     21\u001b[0m                 \u001b[0;31m# say a site i has particle at time t if its color is not the same before \\kappa iterations before\u001b[0m\u001b[0;34m\u001b[0m\u001b[0;34m\u001b[0m\u001b[0;34m\u001b[0m\u001b[0m\n\u001b[1;32m     22\u001b[0m                     \u001b[0mcount\u001b[0m\u001b[0;34m[\u001b[0m\u001b[0mi\u001b[0m\u001b[0;34m]\u001b[0m \u001b[0;34m+=\u001b[0m \u001b[0;36m1\u001b[0m\u001b[0;34m\u001b[0m\u001b[0;34m\u001b[0m\u001b[0m\n",
      "\u001b[0;31mIndexError\u001b[0m: list index out of range"
     ]
    }
   ],
   "source": [
    "#X = X_list[0] # initial config\n",
    "kappa=5\n",
    "b = 2\n",
    "L = 100\n",
    "X1 = np.random.randint(0,kappa, L)\n",
    "#X = np.hstack((X2, X1, X2))\n",
    "X = X1\n",
    "iter_total = 300\n",
    "\n",
    "X_stacked = []\n",
    "X_stacked.append(X)\n",
    "particle_counts = []\n",
    "for t in np.arange(iter_total):\n",
    "    X = FCA_update_single(X, kappa=kappa, b=b, periodic_bdry=True)\n",
    "    if t % (kappa-2) == 0:\n",
    "        X_stacked.append(X)\n",
    "        count = np.zeros(len(X), dtype='int')\n",
    "        if t>= kappa:\n",
    "            for i in np.arange(1,len(X)):\n",
    "                if (X_stacked[-kappa-1][i] != X[i]) and (X[i]!=1):\n",
    "                # say a site i has particle at time t if its color is not the same before \\kappa iterations before\n",
    "                    count[i] += 1\n",
    "        print(\"count\", np.sum(count))\n",
    "            \n",
    "        particle_counts.append(count)\n",
    "\n",
    "X_stacked = np.asarray(X_stacked)"
   ]
  },
  {
   "cell_type": "code",
   "execution_count": 20,
   "metadata": {},
   "outputs": [
    {
     "data": {
      "text/plain": [
       "array([3, 4, 1, 2, 1, 3, 1, 2, 3, 3, 0, 2, 1, 3, 4, 4, 0, 3, 0, 3, 3, 4,\n",
       "       3, 0, 1, 0, 3, 3, 1, 4, 0, 4, 4, 2, 1, 2, 4, 3, 2, 1, 0, 3, 1, 2,\n",
       "       3, 1, 0, 1, 3, 2, 0, 0, 2, 1, 1, 3, 2, 0, 0, 0, 3, 0, 0, 4, 4, 2,\n",
       "       0, 2, 4, 3, 3, 2, 1, 2, 4, 3, 3, 2, 3, 1, 3, 4, 1, 4, 2, 4, 3, 1,\n",
       "       4, 0, 3, 1, 0, 4, 4, 1, 0, 3, 1, 0])"
      ]
     },
     "execution_count": 20,
     "metadata": {},
     "output_type": "execute_result"
    }
   ],
   "source": [
    "X_stacked[-4]"
   ]
  },
  {
   "cell_type": "code",
   "execution_count": 21,
   "metadata": {},
   "outputs": [
    {
     "data": {
      "text/plain": [
       "array([2, 2, 4, 1, 0, 2, 0, 1, 1, 2, 3, 0, 0, 2, 2, 3, 2, 2, 3, 2, 2, 2,\n",
       "       2, 3, 4, 3, 2, 2, 3, 3, 3, 3, 2, 1, 0, 1, 1, 1, 1, 4, 3, 2, 0, 1,\n",
       "       1, 3, 4, 3, 2, 0, 4, 4, 0, 0, 0, 2, 0, 4, 4, 3, 2, 3, 3, 3, 3, 4,\n",
       "       4, 4, 2, 2, 1, 1, 0, 1, 1, 2, 1, 1, 1, 0, 2, 2, 4, 2, 1, 1, 2, 3,\n",
       "       3, 2, 2, 3, 3, 3, 3, 3, 3, 2, 3, 4])"
      ]
     },
     "execution_count": 21,
     "metadata": {},
     "output_type": "execute_result"
    }
   ],
   "source": [
    "X_stacked[-2]"
   ]
  },
  {
   "cell_type": "code",
   "execution_count": 22,
   "metadata": {},
   "outputs": [
    {
     "data": {
      "text/plain": [
       "array([0, 0, 0, 0, 0, 0, 0, 0, 0, 0, 0, 0, 0, 0, 0, 0, 0, 0, 0, 0, 0, 0,\n",
       "       0, 0, 0, 0, 0, 0, 0, 0, 0, 0, 0, 0, 0, 0, 0, 0, 0, 0, 0, 0, 0, 0,\n",
       "       0, 0, 0, 0, 0, 0, 0, 0, 0, 0, 0, 0, 0, 0, 0, 0, 0, 0, 0, 0, 0, 0,\n",
       "       0, 0, 0, 0, 0, 0, 0, 0, 0, 0, 0, 0, 0, 0, 0, 0, 0, 0, 0, 0, 0, 0,\n",
       "       0, 0, 0, 0, 0, 0, 0, 0, 0, 0, 0, 0])"
      ]
     },
     "execution_count": 22,
     "metadata": {},
     "output_type": "execute_result"
    }
   ],
   "source": [
    "particle_counts[-2]"
   ]
  },
  {
   "cell_type": "code",
   "execution_count": 23,
   "metadata": {},
   "outputs": [
    {
     "data": {
      "text/plain": [
       "<matplotlib.colorbar.Colorbar at 0x7f9118958100>"
      ]
     },
     "execution_count": 23,
     "metadata": {},
     "output_type": "execute_result"
    },
    {
     "data": {
      "image/png": "[encoded data removed]",
      "text/plain": [
       "<Figure size 1080x720 with 2 Axes>"
      ]
     },
     "metadata": {
      "needs_background": "light"
     },
     "output_type": "display_data"
    }
   ],
   "source": [
    "\n",
    "\n",
    "fig, ax = plt.subplots(nrows=1, ncols=1, figsize=[15,10])\n",
    "im = ax.imshow(X_stacked, cmap = 'viridis_r')\n",
    "cbar_ax = fig.add_axes([0.92, 0.15, 0.01, 0.7])\n",
    "fig.colorbar(im, cax=cbar_ax)\n"
   ]
  },
  {
   "cell_type": "code",
   "execution_count": 18,
   "metadata": {},
   "outputs": [
    {
     "data": {
      "text/plain": [
       "<matplotlib.colorbar.Colorbar at 0x7f912854e700>"
      ]
     },
     "execution_count": 18,
     "metadata": {},
     "output_type": "execute_result"
    },
    {
     "data": {
      "image/png": "[encoded data removed]",
      "text/plain": [
       "<Figure size 1080x720 with 2 Axes>"
      ]
     },
     "metadata": {
      "needs_background": "light"
     },
     "output_type": "display_data"
    }
   ],
   "source": [
    "fig, ax = plt.subplots(nrows=1, ncols=1, figsize=[15,10])\n",
    "im = ax.imshow(particle_counts, cmap = 'viridis_r')\n",
    "cbar_ax = fig.add_axes([0.92, 0.15, 0.01, 0.7])\n",
    "fig.colorbar(im, cax=cbar_ax)\n",
    "\n"
   ]
  },
  {
   "cell_type": "code",
   "execution_count": 179,
   "metadata": {},
   "outputs": [
    {
     "name": "stdout",
     "output_type": "stream",
     "text": [
      "[array([0, 0, 0, 0, 0, 0, 0, 0, 0, 0, 0, 0, 0, 0, 0, 0, 0, 0, 0]), array([0, 0, 0, 0, 0, 0, 0, 0, 0, 0, 0, 0, 0, 0, 0, 0, 0, 0, 0]), array([0, 0, 0, 0, 0, 0, 0, 0, 0, 0, 0, 0, 0, 0, 0, 0, 0, 0, 0]), array([0, 0, 0, 0, 1, 0, 0, 1, 0, 0, 0, 0, 0, 1, 1, 0, 0, 0, 0]), array([0, 0, 0, 0, 1, 0, 0, 1, 0, 0, 0, 0, 0, 0, 1, 0, 0, 0, 0]), array([0, 0, 0, 1, 1, 0, 0, 1, 1, 0, 0, 0, 0, 0, 1, 0, 0, 0, 0]), array([0, 0, 0, 1, 0, 0, 0, 0, 1, 0, 0, 0, 0, 0, 1, 1, 0, 0, 0]), array([0, 0, 0, 1, 0, 0, 0, 0, 1, 0, 0, 0, 0, 0, 0, 1, 0, 0, 0]), array([0, 0, 1, 1, 0, 0, 0, 0, 1, 1, 0, 0, 0, 0, 0, 1, 0, 0, 0]), array([0, 0, 1, 0, 0, 0, 0, 0, 0, 1, 0, 0, 0, 0, 0, 1, 1, 0, 0]), array([0, 0, 1, 0, 0, 0, 0, 0, 0, 1, 0, 0, 0, 0, 0, 0, 1, 0, 0]), array([0, 1, 1, 0, 0, 0, 0, 0, 0, 1, 1, 0, 0, 0, 0, 0, 1, 0, 0]), array([0, 1, 0, 0, 0, 0, 0, 0, 0, 0, 1, 0, 0, 0, 0, 0, 1, 1, 0]), array([0, 1, 0, 0, 0, 0, 0, 0, 0, 0, 1, 0, 0, 0, 0, 0, 0, 1, 0]), array([0, 1, 0, 0, 0, 0, 0, 0, 0, 0, 1, 1, 0, 0, 0, 0, 0, 1, 0]), array([0, 0, 0, 0, 0, 0, 0, 0, 0, 0, 0, 1, 0, 0, 0, 0, 0, 1, 1]), array([0, 1, 0, 0, 0, 0, 0, 0, 0, 0, 0, 1, 0, 0, 0, 0, 0, 0, 1]), array([0, 1, 0, 0, 0, 0, 0, 0, 0, 0, 0, 1, 1, 0, 0, 0, 0, 1, 1]), array([0, 1, 0, 0, 0, 0, 0, 0, 0, 0, 0, 0, 1, 0, 0, 0, 0, 1, 0]), array([0, 1, 1, 0, 0, 0, 0, 0, 0, 0, 0, 0, 1, 0, 0, 0, 0, 1, 0]), array([0, 0, 1, 0, 0, 0, 0, 0, 0, 0, 0, 0, 1, 1, 0, 0, 1, 1, 0]), array([0, 0, 1, 0, 0, 0, 0, 0, 0, 0, 0, 0, 0, 1, 0, 0, 1, 0, 0]), array([0, 0, 1, 1, 0, 0, 0, 0, 0, 0, 0, 0, 0, 1, 0, 0, 1, 0, 0]), array([0, 0, 0, 1, 0, 0, 0, 0, 0, 0, 0, 0, 0, 1, 1, 1, 1, 0, 0]), array([0, 0, 0, 1, 0, 0, 0, 0, 0, 0, 0, 0, 0, 0, 1, 1, 0, 0, 0]), array([0, 0, 0, 1, 1, 0, 0, 0, 0, 0, 0, 0, 0, 1, 1, 1, 1, 0, 0]), array([0, 0, 0, 0, 1, 0, 0, 0, 0, 0, 0, 0, 0, 1, 0, 0, 1, 0, 0]), array([0, 0, 0, 0, 1, 0, 0, 0, 0, 0, 0, 0, 0, 1, 0, 0, 1, 0, 0]), array([0, 0, 0, 0, 1, 1, 0, 0, 0, 0, 0, 0, 1, 1, 0, 0, 1, 1, 0]), array([0, 0, 0, 0, 0, 1, 0, 0, 0, 0, 0, 0, 1, 0, 0, 0, 0, 1, 0])]\n"
     ]
    }
   ],
   "source": [
    "print(particle_counts)"
   ]
  },
  {
   "cell_type": "code",
   "execution_count": 12,
   "metadata": {},
   "outputs": [],
   "source": [
    "Y = X_stacked[-1,:]"
   ]
  },
  {
   "cell_type": "code",
   "execution_count": null,
   "metadata": {},
   "outputs": [],
   "source": [
    "#X = X_list[0] # initial config\n",
    "kappa=5\n",
    "#X = np.zeros(100)\n",
    "X = np.random.randint(0,kappa, 100)\n",
    "X[40:50] = Y\n",
    "iter_total = 100\n",
    "\n",
    "X_stacked = []\n",
    "X_stacked.append(X)\n",
    "for t in np.arange(iter_total):\n",
    "    X = FCA_update_single(X, kappa=kappa, b=b)\n",
    "    #if t % (kappa+1) == 0:\n",
    "    X_stacked.append(X)\n",
    "\n",
    "X_stacked = np.asarray(X_stacked)"
   ]
  },
  {
   "cell_type": "code",
   "execution_count": null,
   "metadata": {},
   "outputs": [],
   "source": [
    "\n",
    "\n",
    "fig, ax = plt.subplots(nrows=1, ncols=1, figsize=[15,30])\n",
    "im = ax.imshow(X_stacked, cmap = 'viridis_r')\n",
    "cbar_ax = fig.add_axes([0.92, 0.15, 0.01, 0.7])\n",
    "fig.colorbar(im, cax=cbar_ax)\n",
    "\n"
   ]
  },
  {
   "cell_type": "code",
   "execution_count": null,
   "metadata": {},
   "outputs": [],
   "source": [
    "X = np.random.randint(0,kappa, 100)\n"
   ]
  },
  {
   "cell_type": "markdown",
   "metadata": {},
   "source": [
    "## Spatial BBS on N x [0, L] "
   ]
  },
  {
   "cell_type": "code",
   "execution_count": null,
   "metadata": {},
   "outputs": [],
   "source": [
    "def ini_config(shape=[1, 10], p=0.3):\n",
    "    X = np.zeros(shape=shape)\n",
    "    for i in np.arange(shape[0]):\n",
    "        for j in np.arange(shape[1]):\n",
    "            if np.random.rand()<p:\n",
    "                X[i,j] = 1\n",
    "    return X"
   ]
  },
  {
   "cell_type": "code",
   "execution_count": null,
   "metadata": {},
   "outputs": [],
   "source": [
    "def Spatial_Carrier_Action(X, Carrier, eps=0):\n",
    "    '''\n",
    "    [X, Carrier] --> [X_new, Carrier_new]\n",
    "    X.shape = Carrier.shape = [L,0] \n",
    "    Impose periodic boundary condition on the underlying graph [0,L]\n",
    "    eps = failure probability for randomization \n",
    "    '''\n",
    "    L = X.shape[0]\n",
    "    X_new = X.copy()\n",
    "    Carrier_new = Carrier.copy()\n",
    "    for i in np.arange(L):\n",
    "        # carrier picking up balls\n",
    "        if X[i]>0: # site i has ball in config X\n",
    "            U = np.random.rand()\n",
    "            if U>eps:\n",
    "                Carrier_new[i] += X[i]\n",
    "                X_new[i] = 0\n",
    "                \n",
    "        # carrier dropping balls\n",
    "        elif (Carrier[i]>0) and (X[i]==0) and (X[(i+1) % L]==0) and (X[(i-1) % L]==0):\n",
    "            U1 = np.random.rand()\n",
    "            if U1>eps:\n",
    "                X_new[i] = 1\n",
    "                Carrier_new[i] -= 1\n",
    "            \n",
    "    return X_new, Carrier_new"
   ]
  },
  {
   "cell_type": "code",
   "execution_count": null,
   "metadata": {},
   "outputs": [],
   "source": [
    "def SBBS_update_single(X, eps=0): \n",
    "    '''\n",
    "    X = array of shape [L, n]\n",
    "    ''' \n",
    "    X = np.hstack((X, np.zeros(shape=X.shape, dtype=int)))\n",
    "    Carrier = np.zeros(shape=[X.shape[0],])\n",
    "    X_new = []\n",
    "    Carrier_process = []\n",
    "    for i in np.arange(X.shape[1]):\n",
    "        if (np.sum(X[:,i:])==0) and (np.sum(Carrier)==0):\n",
    "            # no more balls to the right and carrier is empty\n",
    "            break\n",
    "        \n",
    "        W = X[:,i]\n",
    "        W_new, Carrier = Spatial_Carrier_Action(W, Carrier, eps)\n",
    "        X_new.append(W_new)\n",
    "        Carrier_process.append(Carrier)\n",
    "    return np.asarray(X_new).T, np.asarray(Carrier_process).T"
   ]
  },
  {
   "cell_type": "code",
   "execution_count": null,
   "metadata": {},
   "outputs": [],
   "source": [
    "def SBBS_update(X, n_iter=1, eps=0):\n",
    "    for i in np.arange(n_iter):\n",
    "        X, Carrier_process = SBBS_update_single(X, eps)\n",
    "    return X, Carrier_process"
   ]
  },
  {
   "cell_type": "code",
   "execution_count": null,
   "metadata": {},
   "outputs": [],
   "source": [
    "p_list = [0.3, 0.6]\n",
    "X_list = []\n",
    "for p in p_list:\n",
    "    X = ini_config(shape=[200,20], p=p) # shape = [L, n]\n",
    "    X_list.append(X)\n",
    "    \n",
    "# Phase transition at p=0.5, p \\approx 0.7\n",
    "# p<0.5 : subcritical with log n soliton length \n",
    "# p=0.5 : critical with \\sqrt{n} soliton length\n",
    "# 0.5<p<0.7 : supercritical with n soliton length but not giant \n",
    "# 0.7<p : ultracritical(?) Emergence of giant soliton"
   ]
  },
  {
   "cell_type": "code",
   "execution_count": null,
   "metadata": {},
   "outputs": [],
   "source": [
    "fig, ax = plt.subplots(nrows=1, ncols=len(p_list), figsize=[15,10])\n",
    "for i in np.arange(len(p_list)):\n",
    "    X, Carrier_process = SBBS_update(X_list[i], n_iter=5, eps=0.5)\n",
    "    # print(np.max(Carrier_process, axis=1)) # conserved quantity! \n",
    "\n",
    "    ax[i].imshow(X)\n",
    "    ax[i].set_ylabel(\"$\\longleftarrow$ Space $\\longrightarrow$\", fontsize=15);\n",
    "    ax[i].set_xlabel(\"Wave $\\longrightarrow$\", fontsize=15);\n",
    "    ax[i].set_title(\"p = %.2f\" % p_list[i])\n",
    "\n",
    "plt.subplots_adjust(left=0.01, right=0.9, bottom=0.1, top=0.8, wspace=0.4, hspace=0.2)\n",
    "plt.savefig('MLR_20News_coeff_ex1.png', bbox_inches='tight')"
   ]
  },
  {
   "cell_type": "code",
   "execution_count": null,
   "metadata": {},
   "outputs": [],
   "source": [
    "p_list = [0.7]\n",
    "X_list = []\n",
    "for p in p_list:\n",
    "    X = ini_config(shape=[1,50], p=p) # shape = [L, n]\n",
    "    X_list.append(X)\n",
    "    \n",
    "# Phase transition at p=0.5, p \\approx 0.7\n",
    "# p<0.5 : subcritical with log n soliton length \n",
    "# p=0.5 : critical with \\sqrt{n} soliton length\n",
    "# 0.5<p<0.7 : supercritical with n soliton length but not giant \n",
    "# 0.7<p : ultracritical(?) Emergence of giant soliton"
   ]
  },
  {
   "cell_type": "code",
   "execution_count": null,
   "metadata": {},
   "outputs": [],
   "source": [
    "X = np.asarray([1]*10 + [0] * 5 + [1] * 5)\n",
    "X = X[np.newaxis, :]"
   ]
  },
  {
   "cell_type": "code",
   "execution_count": null,
   "metadata": {},
   "outputs": [],
   "source": [
    "X.shape"
   ]
  },
  {
   "cell_type": "code",
   "execution_count": null,
   "metadata": {},
   "outputs": [],
   "source": [
    "#X = X_list[0] # initial config\n",
    "iter_total = 20\n",
    "eps=0.01\n",
    "X_stacked = []\n",
    "X_stacked.append(X)\n",
    "for t in np.arange(iter_total):\n",
    "    X, Carrier_process = SBBS_update(X, n_iter=1, eps=eps)\n",
    "    X_stacked.append(X.copy()) \n",
    "    \n",
    "# pad in zeros\n",
    "max_length = X_stacked[-1].shape[1]\n",
    "X_array = np.zeros((iter_total, max_length))\n",
    "for t in np.arange(iter_total):\n",
    "    X1 = X_stacked[t]\n",
    "    X_array[t,:X1.shape[1]] = X1\n",
    "\n",
    "fig, ax = plt.subplots(nrows=1, ncols=len(p_list), figsize=[15,10])\n",
    "ax.imshow(X_array)\n"
   ]
  },
  {
   "cell_type": "code",
   "execution_count": null,
   "metadata": {},
   "outputs": [],
   "source": []
  },
  {
   "cell_type": "code",
   "execution_count": null,
   "metadata": {},
   "outputs": [],
   "source": [
    "X, Carrier_process = SBBS_update(X_list[0], n_iter=5, eps=0)"
   ]
  },
  {
   "cell_type": "code",
   "execution_count": null,
   "metadata": {},
   "outputs": [],
   "source": [
    "X, Carrier_process = SBBS_update(X, n_iter=5, eps=0)"
   ]
  },
  {
   "cell_type": "code",
   "execution_count": null,
   "metadata": {},
   "outputs": [],
   "source": [
    "X"
   ]
  },
  {
   "cell_type": "code",
   "execution_count": null,
   "metadata": {},
   "outputs": [],
   "source": [
    "fig, ax = plt.subplots(nrows=1, ncols=len(p_list), figsize=[15,10])\n",
    "for i in np.arange(len(p_list)):\n",
    "    X, Carrier_process = SBBS_update(X_list[i], n_iter=5, eps=0.5)\n",
    "    # print(np.max(Carrier_process, axis=1)) # conserved quantity! \n",
    "\n",
    "    ax[i].imshow(X)\n",
    "    ax[i].set_ylabel(\"$\\longleftarrow$ Space $\\longrightarrow$\", fontsize=15);\n",
    "    ax[i].set_xlabel(\"Wave $\\longrightarrow$\", fontsize=15);\n",
    "    ax[i].set_title(\"p = %.2f\" % p_list[i])\n",
    "\n",
    "plt.subplots_adjust(left=0.01, right=0.9, bottom=0.1, top=0.8, wspace=0.4, hspace=0.2)\n",
    "plt.savefig('MLR_20News_coeff_ex1.png', bbox_inches='tight')"
   ]
  },
  {
   "cell_type": "code",
   "execution_count": null,
   "metadata": {},
   "outputs": [],
   "source": [
    "p_list = [0.3, 0.5]\n",
    "X_list = []\n",
    "for p in p_list:\n",
    "    X = ini_config(shape=[1,100], p=p) # shape = [L, n]\n",
    "    X_list.append(X)\n",
    "    \n",
    "# Phase transition at p=0.5, p \\approx 0.7\n",
    "# p<0.5 : subcritical with log n soliton length \n",
    "# p=0.5 : critical with \\sqrt{n} soliton length\n",
    "# 0.5<p<0.7 : supercritical with n soliton length but not giant \n",
    "# 0.7<p : ultracritical(?) Emergence of giant soliton"
   ]
  },
  {
   "cell_type": "code",
   "execution_count": null,
   "metadata": {},
   "outputs": [],
   "source": [
    "fig, ax = plt.subplots(nrows=1, ncols=len(p_list), figsize=[15,10])\n",
    "for i in np.arange(len(p_list)):\n",
    "    X, Carrier_process = SBBS_update(X_list[i], n_iter=2)\n",
    "    # print(np.max(Carrier_process, axis=1)) # conserved quantity! \n",
    "\n",
    "    ax[i].imshow(X)\n",
    "    ax[i].set_ylabel(\"$\\longleftarrow$ Space $\\longrightarrow$\", fontsize=15);\n",
    "    ax[i].set_xlabel(\"Wave $\\longrightarrow$\", fontsize=15);\n",
    "    ax[i].set_title(\"p = %.2f\" % p_list[i])\n",
    "\n",
    "plt.subplots_adjust(left=0.01, right=0.9, bottom=0.1, top=0.8, wspace=0.4, hspace=0.2)\n",
    "plt.savefig('MLR_20News_coeff_ex1.png', bbox_inches='tight')"
   ]
  },
  {
   "cell_type": "code",
   "execution_count": null,
   "metadata": {},
   "outputs": [],
   "source": []
  }
 ],
 "metadata": {
  "kernelspec": {
   "display_name": "colourgraphenv",
   "language": "python",
   "name": "colourgraphenv"
  },
  "language_info": {
   "codemirror_mode": {
    "name": "ipython",
    "version": 3
   },
   "file_extension": ".py",
   "mimetype": "text/x-python",
   "name": "python",
   "nbconvert_exporter": "python",
   "pygments_lexer": "ipython3",
   "version": "3.8.5"
  }
 },
 "nbformat": 4,
 "nbformat_minor": 4
}
