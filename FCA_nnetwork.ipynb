{
 "cells": [
  {
   "cell_type": "code",
   "execution_count": 1,
   "id": "5f07f32a",
   "metadata": {},
   "outputs": [],
   "source": [
    "from NNetwork.NNetwork import NNetwork\n",
    "import numpy as np\n",
    "import pandas as pd\n",
    "import networkx as nx\n",
    "import random\n",
    "import seaborn as sns\n",
    "from src.fca import FCA_nn, FCA_nx"
   ]
  },
  {
   "cell_type": "code",
   "execution_count": 2,
   "id": "0fc8ff1c",
   "metadata": {},
   "outputs": [],
   "source": [
    "import matplotlib.gridspec as gridspec\n",
    "import matplotlib.pyplot as plt\n",
    "\n",
    "plt.rcParams.update({\n",
    "    \"font.family\": \"serif\",  # use serif/main font for text elements\n",
    "    #\"font.size\"   : 15,\n",
    "    \"text.usetex\": True,  # use inline math for ticks\n",
    "    \"pgf.rcfonts\": False,  # don't setup fonts from rc parameters\n",
    "    \"pgf.preamble\": \"\\n\".join([\n",
    "        \"\\\\usepackage{units}\",  # load additional packages\n",
    "        \"\\\\usepackage{metalogo}\",\n",
    "        \"\\\\usepackage{unicode-math}\",  # unicode math setup\n",
    "        r\"\\setmathfont{xits-math.otf}\",\n",
    "        r\"\\setmainfont{DejaVu Serif}\",  # serif font via preamble\n",
    "    ])\n",
    "})\n",
    "\n",
    "\n",
    "def display_graph_dyn(data = None, # [G, X_list]\n",
    "                   title=None,\n",
    "                   save_path=None,\n",
    "                   grid_shape=[2,3],\n",
    "                   fig_size=[10,10],\n",
    "                   show_importance=False,\n",
    "                   blinking_color=None,\n",
    "                   coloring_offset=[-0.3, 0.3],\n",
    "                   seed=0):\n",
    "\n",
    "        # G = nn.NNetwork()\n",
    "        # X_list = list of coloring on G (1xlen(G.nodes()) vectors)\n",
    "        G, X_list = data\n",
    "        nodes = G.nodes()\n",
    "        edges = G.get_edges()\n",
    "        n = len(nodes)\n",
    "       \n",
    "        rows = grid_shape[0]\n",
    "        cols = grid_shape[1]\n",
    "\n",
    "        fig = plt.figure(figsize=fig_size, constrained_layout=False)\n",
    "        # make outer gridspec\n",
    "\n",
    "        outer_grid = gridspec.GridSpec(nrows=rows, ncols=cols, wspace=0.2, hspace=0.02)\n",
    "\n",
    "        # get nx graph and position for plot\n",
    "        G1 = nx.Graph()\n",
    "        for e in edges:\n",
    "            G1.add_edge(e[0],e[1], color='b', weight=1)\n",
    "        colors = [G1[u][v]['color'] for u,v in edges]\n",
    "        G2 = nx.Graph()\n",
    "        G2.add_nodes_from(G1)\n",
    "\n",
    "        pos = nx.spring_layout(G1, seed=seed)\n",
    "        #for labeling outside the node\n",
    "        #offset =1\n",
    "        pos_labels = {}\n",
    "        keys = pos.keys()\n",
    "        y_list = []\n",
    "        for key in keys:\n",
    "            x, y = pos[key]\n",
    "            y_list.append(y)\n",
    "        offset = np.std(np.asarray(y_list))\n",
    "        \n",
    "        for key in keys:\n",
    "            x, y = pos[key]\n",
    "            pos_labels.update({key: (x+offset*coloring_offset[0], y+offset*offset*coloring_offset[1])})\n",
    "                \n",
    "        # make nested gridspecs\n",
    "        \n",
    "        for i in range(rows * cols):\n",
    "            a = i // cols\n",
    "            b = i % rows\n",
    "            \n",
    "            # display graphs\n",
    "            inner_grid = outer_grid[i].subgridspec(1, 1, wspace=0.05, hspace=0.05)\n",
    "            \n",
    "            # add transition arrows\n",
    "            ax = plt.Subplot(fig, inner_grid[0, 0])\n",
    "            #ax.set_ylabel(r'$\\rightarrow$', color='r')\n",
    "            #ax.set_ylabel('-->', color='r')\n",
    "            ax.yaxis.set_label_position('right')\n",
    "            if i < len(X_list)-1:\n",
    "                ax.set_ylabel(r\"$\\rightarrow$\", rotation=0, labelpad=10)\n",
    "            else:\n",
    "                ax.set_ylabel(r\"$\\cdots$\", rotation=0, labelpad=10)\n",
    "            #ax.axis('off')\n",
    "            # make xaxis invisibel\n",
    "            ax.xaxis.set_visible(False)\n",
    "            # make spines (the box) invisible\n",
    "            plt.setp(ax.spines.values(), visible=False)\n",
    "            # remove ticks and labels for the left axis\n",
    "            ax.tick_params(left=False, labelleft=False)\n",
    "            #remove background patch (only needed for non-white background)\n",
    "            ax.patch.set_visible(False)\n",
    "            fig.add_subplot(ax)\n",
    "\n",
    "            # make dictionary of node colors \n",
    "            coloring_dict = {}\n",
    "            X = X_list[i]\n",
    "            for c in np.arange(n):\n",
    "                node = nodes[c]\n",
    "                coloring_dict.update({node: int(X[c])})\n",
    "                \n",
    "            \n",
    "            \n",
    "            node_color_map = []\n",
    "            for c in np.arange(n):\n",
    "                node = nodes[c]\n",
    "                node_color = 'black'\n",
    "                if blinking_color is not None:\n",
    "                    if X[c] == blinking_color:\n",
    "                        node_color = 'yellow'\n",
    "                    elif X[c] > blinking_color: # post-blinking color\n",
    "                        node_color = 'gray'\n",
    "\n",
    "                node_color_map.append(node_color)\n",
    "            \n",
    "            # read in as a nx graph for plotting\n",
    "            ax = fig.add_subplot(inner_grid[0, 0])\n",
    "            \n",
    "            \n",
    "            edges_nx = G1.edges()\n",
    "            weights = [1*G1[u][v]['weight'] for u,v in edges_nx]\n",
    "            \n",
    "            nx.draw(G1, pos=pos, nodelist=nodes, with_labels=False, node_size=50, ax=ax, \n",
    "                    width=weights, node_color=node_color_map, edge_color=colors);\n",
    "            nx.draw(G1, pos=pos_labels, nodelist=nodes, with_labels=True, node_size=0,\n",
    "                    ax=ax, labels=coloring_dict, width=0)\n",
    "           \n",
    "            ax.set_xticks([])\n",
    "            ax.set_yticks([])\n",
    "            \n",
    "            \n",
    "        if title is not None:\n",
    "            plt.suptitle(title, fontsize=15)\n",
    "        fig.subplots_adjust(left=0.1, bottom=0.1, right=0.9, top=0.9, wspace=0.2, hspace=0)\n",
    "        if save_path is not None:\n",
    "            fig.savefig(save_path, bbox_inches='tight')"
   ]
  },
  {
   "cell_type": "code",
   "execution_count": null,
   "id": "0b97f5b7",
   "metadata": {},
   "outputs": [],
   "source": [
    "# a(0) --- b(2)\n",
    "edgelist = [['a', 'b']]\n",
    "G = NNetwork()\n",
    "G.add_edges(edgelist)\n",
    "k = 6\n",
    "iteration = 15\n",
    "ret = FCA_nn(G, s=[0, 2], k=k, iteration=iteration)\n",
    "\n",
    "save_path = \"figures/FCA_ex_1\"\n",
    "display_graph_dyn(data=[G, ret], grid_shape=[1,iteration+1], fig_size=[12,1.5], \n",
    "                  blinking_color=2, save_path=save_path,\n",
    "                  seed=0)"
   ]
  },
  {
   "cell_type": "code",
   "execution_count": null,
   "id": "90bfce7c",
   "metadata": {},
   "outputs": [],
   "source": [
    "edgelist = [['a','b'], ['a', 'c'], ['b', 'c'], ['b', 'd'], ['c', 'e'], ['d', 'e']]\n",
    "G = NNetwork()\n",
    "G.add_edges(edgelist)\n",
    "k = 6\n",
    "iteration = 15\n",
    "ret = FCA_nn(G, s=[1, 2, 3, 1, 4], k=k, iteration=iteration)\n",
    "\n",
    "save_path = \"figures/FCA_ex_2\"\n",
    "display_graph_dyn(data=[G, ret], grid_shape=[1,iteration+1], \n",
    "                  fig_size=[15,2], blinking_color=2,\n",
    "                  coloring_offset=[-0.7,0], save_path=save_path,\n",
    "                  seed=4)"
   ]
  },
  {
   "cell_type": "code",
   "execution_count": null,
   "id": "f4437691",
   "metadata": {},
   "outputs": [],
   "source": [
    "edgelist = [['a','b'], ['a', 'c'], ['b', 'c'], ['b', 'd'], ['c', 'e'], ['d', 'e']]\n",
    "G = NNetwork()\n",
    "G.add_edges(edgelist)\n",
    "k = 6\n",
    "iteration = 20\n",
    "ret = FCA_nn(G, s=[5, 2, 0, 1, 4], k=k, iteration=iteration)\n",
    "\n",
    "display_graph_dyn(data=[G, ret], grid_shape=[1,iteration+1], \n",
    "                  fig_size=[15,2], blinking_color=2,\n",
    "                  coloring_offset=[-0.7,0],\n",
    "                  seed=4)"
   ]
  },
  {
   "cell_type": "code",
   "execution_count": null,
   "id": "006bf710",
   "metadata": {},
   "outputs": [],
   "source": [
    "edgelist = [['0','1'], ['0', '2'], ['0','3'], ['0','4'], ['0','5'], ['0','6']]\n",
    "G = NNetwork()\n",
    "G.add_edges(edgelist)\n",
    "k = 6\n",
    "iteration = 7\n",
    "ret = FCA_nn(G, s=[3, 5, 1, 2, 4, 3, 0], k=k, iteration=iteration)\n",
    "\n",
    "save_path = \"figures/FCA_ex_3\"\n",
    "display_graph_dyn(data=[G, ret], grid_shape=[1,iteration+1], \n",
    "                  fig_size=[13,2], blinking_color=2,\n",
    "                  coloring_offset=[-0.7,-0.1], save_path = save_path,\n",
    "                  seed=1)\n",
    "\n"
   ]
  },
  {
   "cell_type": "code",
   "execution_count": null,
   "id": "83f15d77",
   "metadata": {},
   "outputs": [],
   "source": [
    "edgelist = [['0', '2'], ['0', '4'], ['0', '5'], ['2', '4'], ['2', '5'], ['5', '4']]\n",
    "G = NNetwork()\n",
    "G.add_edges(edgelist)\n",
    "k = 6\n",
    "iteration = 4\n",
    "ret = FCA_nn(G, [0,2,4,5], k=k, iteration=iteration)\n",
    "\n",
    "save_path = \"figures/FCA_ex_4\"\n",
    "display_graph_dyn(data=[G, ret], grid_shape=[1,iteration+1], \n",
    "                  fig_size=[10,2], blinking_color=2,\n",
    "                  coloring_offset=[-0.5,0.3], save_path=save_path,\n",
    "                  seed=3)"
   ]
  },
  {
   "cell_type": "code",
   "execution_count": null,
   "id": "484f4a1f",
   "metadata": {},
   "outputs": [],
   "source": [
    "edgelist = [['a', 'b'], ['b', 'c'], ['d', 'e'], ['e', 'f'], ['g', 'h'], ['h', 'i'],\n",
    "            ['a', 'd'], ['d', 'g'], ['b', 'e'], ['e', 'h'], ['c', 'f'], ['f', 'i']]\n",
    "G = NNetwork()\n",
    "G.add_edges(edgelist)\n",
    "iteration=10\n",
    "k = 6\n",
    "S = list(np.random.randint(0, k-1, size=(9,)))\n",
    "ret = FCA_nn(G, S, k=k, iteration=iteration)\n",
    "df = pd.DataFrame(ret)\n",
    "sns.heatmap(df)\n",
    "\n",
    "save_path = \"figures/FCA_ex_5\"\n",
    "display_graph_dyn(data=[G, ret], grid_shape=[1,iteration], \n",
    "                  fig_size=[15,2], blinking_color=2,\n",
    "                  coloring_offset=[-0.8,0.3], save_path=save_path,\n",
    "                  seed=0)"
   ]
  },
  {
   "cell_type": "code",
   "execution_count": null,
   "id": "5d3c5a4f",
   "metadata": {
    "scrolled": true
   },
   "outputs": [],
   "source": [
    "#generate a grid 2d graph with 400 nodes\n",
    "G = nx.grid_2d_graph(4, 4)\n",
    "G.edges()\n",
    "new_nodes = {e: n for n, e in enumerate(G.nodes, start=1)}\n",
    "new_edges = [(new_nodes[e1], new_nodes[e2]) for e1, e2 in G.edges]\n",
    "edgelist = [] #update the formate of edgelist to match with NNetwork input\n",
    "for i in range(len(new_edges)):\n",
    "    temp = [str(new_edges[i][0]), str(new_edges[i][1])]\n",
    "    edgelist.append(temp)\n",
    "G = NNetwork()\n",
    "G.add_edges(edgelist)\n",
    "\n",
    "iteration=10\n",
    "k = 4\n",
    "\n",
    "S = list(np.random.randint(0, k, size=(len(G.nodes()),)))\n",
    "ret = FCA_nn(G, S, k=k, iteration=iteration)\n",
    "df = pd.DataFrame(ret)\n",
    "sns.heatmap(df)"
   ]
  },
  {
   "cell_type": "code",
   "execution_count": null,
   "id": "9025a7e7",
   "metadata": {},
   "outputs": [],
   "source": [
    "save_path = \"figures/FCA_ex_6\"\n",
    "display_graph_dyn(data=[G, ret], grid_shape=[1,iteration], \n",
    "                  fig_size=[15,5], blinking_color=2,\n",
    "                  coloring_offset=[-0.5,-0.2], save_path=save_path,\n",
    "                  seed=2)"
   ]
  },
  {
   "cell_type": "code",
   "execution_count": null,
   "id": "795f6290",
   "metadata": {},
   "outputs": [],
   "source": [
    "ret = FCA_nn(G, S, 10, 1, 1, 100)\n",
    "df = pd.DataFrame(ret)\n",
    "sns.heatmap(df)"
   ]
  },
  {
   "cell_type": "code",
   "execution_count": null,
   "id": "580e433c",
   "metadata": {},
   "outputs": [],
   "source": [
    "ret = FCA_nn(G, S, 10, 1, 0.2, 100)\n",
    "df = pd.DataFrame(ret)\n",
    "sns.heatmap(df)"
   ]
  },
  {
   "cell_type": "code",
   "execution_count": null,
   "id": "f621d24d",
   "metadata": {},
   "outputs": [],
   "source": [
    "#generate a random tree\n",
    "G0 = nx.grid_2d_graph(4, 4)\n",
    "mst = nx.minimum_spanning_edges(G0, data=False)\n",
    "edges = list(mst)\n",
    "new_nodes = {e: n for n, e in enumerate(G0.nodes, start=1)}\n",
    "new_edges = [(new_nodes[e1], new_nodes[e2]) for e1, e2 in edges]\n",
    "edgelist = [] #update the formate of edgelist to match with NNetwork input\n",
    "for i in range(len(new_edges)):\n",
    "    temp = [str(new_edges[i][0]), str(new_edges[i][1])]\n",
    "    edgelist.append(temp)\n",
    "G = NNetwork()\n",
    "G.add_edges(edgelist)\n",
    "\n",
    "iteration=10\n",
    "k = 4\n",
    "\n",
    "S = list(np.random.randint(0, k, size=(len(G.nodes()),)))\n",
    "ret = FCA_nn(G, S, k=k, iteration=iteration)\n",
    "df = pd.DataFrame(ret)\n",
    "sns.heatmap(df)"
   ]
  },
  {
   "cell_type": "code",
   "execution_count": null,
   "id": "77bdccb4",
   "metadata": {},
   "outputs": [],
   "source": [
    "#generate a random tree\n",
    "G = nx.random_tree(n=9, seed=1)\n",
    "G.edges()\n",
    "new_nodes = {e: n for n, e in enumerate(G.nodes, start=1)}\n",
    "new_edges = [(new_nodes[e1], new_nodes[e2]) for e1, e2 in G.edges]\n",
    "edgelist = [] #update the formate of edgelist to match with NNetwork input\n",
    "for i in range(len(new_edges)):\n",
    "    temp = [str(new_edges[i][0]), str(new_edges[i][1])]\n",
    "    edgelist.append(temp)\n",
    "G = NNetwork()\n",
    "G.add_edges(edgelist)\n",
    "\n",
    "iteration=12\n",
    "k = 4\n",
    "\n",
    "S = list(np.random.randint(0, k, size=(len(G.nodes()),)))\n",
    "ret = FCA_nn(G, S, k=k, iteration=iteration)\n",
    "df = pd.DataFrame(ret)\n",
    "sns.heatmap(df)"
   ]
  },
  {
   "cell_type": "code",
   "execution_count": null,
   "id": "fb901003",
   "metadata": {},
   "outputs": [],
   "source": [
    "save_path = \"figures/FCA_ex_7\"\n",
    "display_graph_dyn(data=[G, ret], grid_shape=[1,iteration], \n",
    "                  fig_size=[15,2], blinking_color=2,\n",
    "                  coloring_offset=[-0.8,-0.1], save_path=save_path,\n",
    "                  seed=2)"
   ]
  },
  {
   "cell_type": "code",
   "execution_count": null,
   "id": "8a419bc4",
   "metadata": {},
   "outputs": [],
   "source": [
    "#generate a random tree\n",
    "G = nx.random_tree(n=100, seed=1)\n",
    "G.edges()\n",
    "new_nodes = {e: n for n, e in enumerate(G.nodes, start=1)}\n",
    "new_edges = [(new_nodes[e1], new_nodes[e2]) for e1, e2 in G.edges]\n",
    "edgelist = [] #update the formate of edgelist to match with NNetwork input\n",
    "for i in range(len(new_edges)):\n",
    "    temp = [str(new_edges[i][0]), str(new_edges[i][1])]\n",
    "    edgelist.append(temp)\n",
    "G = NNetwork()\n",
    "G.add_edges(edgelist)\n",
    "\n",
    "iteration=200\n",
    "k = 4\n",
    "\n",
    "S = list(np.random.randint(0, k, size=(len(G.nodes()),)))\n",
    "ret = FCA_nn(G, S, k=k, iteration=iteration)\n",
    "df = pd.DataFrame(ret)\n",
    "sns.set(rc = {'figure.figsize':(15,8)})\n",
    "sns.heatmap(df)"
   ]
  },
  {
   "cell_type": "code",
   "execution_count": null,
   "id": "a996a11b",
   "metadata": {},
   "outputs": [],
   "source": [
    "save_path = \"figures/FCA_ex_8\"\n",
    "display_graph_dyn(data=[G, ret], grid_shape=[1,iteration], \n",
    "                  fig_size=[15,5], blinking_color=2,\n",
    "                  coloring_offset=[-0.8,-0.1], save_path=save_path,\n",
    "                  seed=2)"
   ]
  },
  {
   "cell_type": "markdown",
   "id": "a7e4cb98",
   "metadata": {},
   "source": [
    "## Facebook networks"
   ]
  },
  {
   "cell_type": "code",
   "execution_count": 3,
   "id": "847b89d7",
   "metadata": {},
   "outputs": [],
   "source": [
    "import NNetwork.NNetwork as nn"
   ]
  },
  {
   "cell_type": "code",
   "execution_count": 4,
   "id": "c8b04ed1",
   "metadata": {},
   "outputs": [
    {
     "name": "stdout",
     "output_type": "stream",
     "text": [
      "num nodes in G 769\n",
      "num edges in G 33312\n"
     ]
    }
   ],
   "source": [
    "sampling_alg = 'pivot'\n",
    "ntwk = 'Caltech36' # COVID_PPI, Wisconsin87, UCLA26, true_edgelist_for_ER_5000_mean_degree_50\n",
    "ntwk_nonumber = ''.join([i for i in ntwk if not i.isdigit()])\n",
    "save_folder = 'Network_dictionary/NDL_rev1/'\n",
    "\n",
    "path = \"Data/Networks_all_NDL/\" + str(ntwk) + '.txt'\n",
    "G = nn.NNetwork()\n",
    "G.load_add_edges(path, increment_weights=False, use_genfromtxt=True)\n",
    "print('num nodes in G', len(G.nodes()))\n",
    "print('num edges in G', len(G.get_edges()))\n",
    "\n",
    "#mx0 = G.get_adjacency_matrix(ordered_node_list=G.nodes())\n",
    "#plt.imshow(mx0)"
   ]
  },
  {
   "cell_type": "code",
   "execution_count": 7,
   "id": "482eb333",
   "metadata": {},
   "outputs": [
    {
     "name": "stdout",
     "output_type": "stream",
     "text": [
      "num of subgraphs induced on k-paths: 100\n"
     ]
    }
   ],
   "source": [
    "X, embs = G.get_patches(k=20, sample_size=100, skip_folded_hom=True)"
   ]
  },
  {
   "cell_type": "code",
   "execution_count": null,
   "id": "0912fdaa",
   "metadata": {},
   "outputs": [],
   "source": [
    "H = nn.NNetwork()\n",
    "H.read_adj(X[:,1].reshape(int(np.sqrt(X.shape[0])),-1))"
   ]
  },
  {
   "cell_type": "code",
   "execution_count": null,
   "id": "b2313a95",
   "metadata": {},
   "outputs": [],
   "source": [
    "H_nx = nx.Graph(H.get_edges())\n",
    "plt.figure(3,figsize=(5,5)) \n",
    "nx.draw(H_nx)"
   ]
  },
  {
   "cell_type": "code",
   "execution_count": null,
   "id": "2d1fc1cf",
   "metadata": {},
   "outputs": [],
   "source": [
    "x = np.asarray(ret)"
   ]
  },
  {
   "cell_type": "code",
   "execution_count": null,
   "id": "3f48d0b1",
   "metadata": {},
   "outputs": [],
   "source": [
    "x.shape"
   ]
  },
  {
   "cell_type": "code",
   "execution_count": null,
   "id": "2794ca3a",
   "metadata": {},
   "outputs": [],
   "source": [
    "iteration=200\n",
    "k = 5\n",
    "\n",
    "S = list(np.random.randint(0, k, size=(len(H.nodes()),)))\n",
    "ret = FCA_nn(H, S, k=k, iteration=iteration)\n",
    "df = pd.DataFrame(ret)\n",
    "plt.figure(3,figsize=(10,5)) \n",
    "sns.heatmap(df)"
   ]
  },
  {
   "cell_type": "code",
   "execution_count": null,
   "id": "1f0a7b30",
   "metadata": {},
   "outputs": [],
   "source": [
    "\n",
    "save_path = \"figures/FCA_ex_fb\"\n",
    "display_graph_dyn(data=[H, ret], grid_shape=[1,iteration], \n",
    "                  fig_size=[15,2], blinking_color=2,\n",
    "                  coloring_offset=[-0.8,0.3], save_path=save_path,\n",
    "                  seed=0)"
   ]
  },
  {
   "cell_type": "code",
   "execution_count": 27,
   "id": "ba139d27",
   "metadata": {},
   "outputs": [],
   "source": [
    "def FCA_gen_dyn_dataset(X, kappa=4, T=100, num_X0=1, save_path=None):\n",
    "    from src.fca import width_compute, order_param\n",
    "    from tqdm import trange \n",
    "    # X = k^2 by N array: each column is a vectorized adjacency matrix\n",
    "    # T = number of FCA iterations\n",
    "    # num_X0 = number of randomly initialized dynamics\n",
    "    # output = Y = (# N x num_X0 x (T+1) x k)\n",
    "    k = int(np.sqrt(X.shape[0])) # number of nodes \n",
    "    N = X.shape[1]\n",
    "    Y = []\n",
    "    Y_width = []\n",
    "    Y_order = []\n",
    "    t2sync = []\n",
    "    for i in trange(N):\n",
    "        H = nn.NNetwork()\n",
    "        H.read_adj(X[:,i].reshape(k,-1))\n",
    "        dyn_list = []\n",
    "        dyn_width_list = []\n",
    "        dyn_order_list = []\n",
    "        t2sync_sub = []\n",
    "        for j in np.arange(num_X0):\n",
    "            X0 = list(np.random.randint(0, kappa, size=(len(H.nodes()),)))\n",
    "            ret = FCA_nn(H, X0, k=kappa, iteration=T)\n",
    "            dyn = np.asarray(ret) # T by k array\n",
    "            dyn_list.append(dyn)\n",
    "            \n",
    "            ret_width = [int(width_compute(ret[s], kappa=kappa)) for s in range(len(ret))] # s = time\n",
    "            dyn_width = np.asarray(ret_width)\n",
    "            dyn_width_list.append(dyn_width)\n",
    "            \n",
    "            ret_order = [order_param(ret[s], kappa=kappa) for s in range(len(ret))] # s = time\n",
    "            dyn_order = np.asarray(ret_order)\n",
    "            dyn_order_list.append(dyn_order)\n",
    "            \n",
    "            if ret_width[-1] == 0: # synchronized at the end\n",
    "                t2sync_sub.append(np.min(np.where(np.asarray(ret_width)==0))) # first time to synchronize \n",
    "            else:\n",
    "                t2sync_sub.append(-1) # not synchronized\n",
    "\n",
    "                \n",
    "        Y.append(np.asarray(dyn_list))\n",
    "        Y_width.append(np.asarray(dyn_width_list))\n",
    "        Y_order.append(np.asarray(dyn_order_list))\n",
    "        t2sync.append(np.asarray(t2sync_sub))\n",
    "    print(\"output = [Y, Y_width, Y_order, t2sync, X]\")\n",
    "    print(\"Y.shape = {graphs x num_X0 x (iterations+1) x graph_size}\")\n",
    "    output = [np.asarray(Y), np.asarray(Y_width), np.asarray(Y_order), np.asarray(t2sync), X]\n",
    "    if save_path is not None:\n",
    "        np.save(save_path, output)\n",
    "        \n",
    "    return  output #Y = (N x num_X0 x (T+1) x k)"
   ]
  },
  {
   "cell_type": "code",
   "execution_count": 28,
   "id": "45782109",
   "metadata": {},
   "outputs": [
    {
     "data": {
      "text/plain": [
       "(400, 100)"
      ]
     },
     "execution_count": 28,
     "metadata": {},
     "output_type": "execute_result"
    }
   ],
   "source": [
    "X.shape"
   ]
  },
  {
   "cell_type": "code",
   "execution_count": 29,
   "id": "3f71164a",
   "metadata": {},
   "outputs": [
    {
     "name": "stderr",
     "output_type": "stream",
     "text": [
      "100%|█████████████████████████████████████████████████████████████████████| 100/100 [01:01<00:00,  1.63it/s]"
     ]
    },
    {
     "name": "stdout",
     "output_type": "stream",
     "text": [
      "output = [Y, Y_width, Y_order, t2sync, X]\n",
      "Y.shape = {graphs x num_X0 x (iterations+1) x graph_size}\n"
     ]
    },
    {
     "name": "stderr",
     "output_type": "stream",
     "text": [
      "\n"
     ]
    }
   ],
   "source": [
    "save_path = \"FCA_dataset_ex.npy\"\n",
    "Y, Y_width, Y_order, t2sync, X = FCA_gen_dyn_dataset(X=X, kappa=4, T=100, num_X0=10, \n",
    "                                                     save_path=save_path)"
   ]
  },
  {
   "cell_type": "code",
   "execution_count": 30,
   "id": "4baf7b6c",
   "metadata": {},
   "outputs": [
    {
     "data": {
      "text/plain": [
       "(100, 10, 101, 20)"
      ]
     },
     "execution_count": 30,
     "metadata": {},
     "output_type": "execute_result"
    }
   ],
   "source": [
    "Y.shape"
   ]
  },
  {
   "cell_type": "code",
   "execution_count": 31,
   "id": "d89f325e",
   "metadata": {},
   "outputs": [
    {
     "data": {
      "text/plain": [
       "(100, 10, 101)"
      ]
     },
     "execution_count": 31,
     "metadata": {},
     "output_type": "execute_result"
    }
   ],
   "source": [
    "Y_width.shape"
   ]
  },
  {
   "cell_type": "code",
   "execution_count": 32,
   "id": "a1cd6b8d",
   "metadata": {},
   "outputs": [
    {
     "data": {
      "text/plain": [
       "0.9645033991403501"
      ]
     },
     "execution_count": 32,
     "metadata": {},
     "output_type": "execute_result"
    }
   ],
   "source": [
    "from src.fca import order_param\n",
    "x = Y[0,0,0,:]\n",
    "order_param(coloring=x, kappa=4)"
   ]
  },
  {
   "cell_type": "code",
   "execution_count": 33,
   "id": "82404a37",
   "metadata": {},
   "outputs": [
    {
     "data": {
      "image/png": "[encoded data removed]",
      "text/plain": [
       "<Figure size 1000x500 with 1 Axes>"
      ]
     },
     "metadata": {},
     "output_type": "display_data"
    }
   ],
   "source": [
    "fig = plt.figure(figsize=[10,5], constrained_layout=False)\n",
    "ax = plt.subplot(1, 1, 1)\n",
    "for i in range(Y_width.shape[1]):\n",
    "    x = np.arange(Y_width.shape[-1])\n",
    "    ax.plot(x, Y_width[6,i,:])"
   ]
  },
  {
   "cell_type": "code",
   "execution_count": 34,
   "id": "1904d5b7",
   "metadata": {},
   "outputs": [
    {
     "data": {
      "text/plain": [
       "array([0.9645034 , 0.98670871, 0.96748067, 0.9426421 , 0.98569893,\n",
       "       0.99290239, 0.99345016, 0.94197098, 0.99345016, 0.99345016,\n",
       "       0.99852225, 0.98717295, 0.99852225, 0.99852225, 1.        ,\n",
       "       1.        , 1.        , 1.        , 1.        , 1.        ,\n",
       "       1.        , 1.        , 1.        , 1.        , 1.        ,\n",
       "       1.        , 1.        , 1.        , 1.        , 1.        ,\n",
       "       1.        , 1.        , 1.        , 1.        , 1.        ,\n",
       "       1.        , 1.        , 1.        , 1.        , 1.        ,\n",
       "       1.        , 1.        , 1.        , 1.        , 1.        ,\n",
       "       1.        , 1.        , 1.        , 1.        , 1.        ,\n",
       "       1.        , 1.        , 1.        , 1.        , 1.        ,\n",
       "       1.        , 1.        , 1.        , 1.        , 1.        ,\n",
       "       1.        , 1.        , 1.        , 1.        , 1.        ,\n",
       "       1.        , 1.        , 1.        , 1.        , 1.        ,\n",
       "       1.        , 1.        , 1.        , 1.        , 1.        ,\n",
       "       1.        , 1.        , 1.        , 1.        , 1.        ,\n",
       "       1.        , 1.        , 1.        , 1.        , 1.        ,\n",
       "       1.        , 1.        , 1.        , 1.        , 1.        ,\n",
       "       1.        , 1.        , 1.        , 1.        , 1.        ,\n",
       "       1.        , 1.        , 1.        , 1.        , 1.        ,\n",
       "       1.        ])"
      ]
     },
     "execution_count": 34,
     "metadata": {},
     "output_type": "execute_result"
    }
   ],
   "source": [
    "Y_order[0,0,:]"
   ]
  },
  {
   "cell_type": "code",
   "execution_count": 35,
   "id": "564e912c",
   "metadata": {},
   "outputs": [
    {
     "data": {
      "image/png": "[encoded data removed]",
      "text/plain": [
       "<Figure size 1000x500 with 1 Axes>"
      ]
     },
     "metadata": {},
     "output_type": "display_data"
    }
   ],
   "source": [
    "fig = plt.figure(figsize=[10,5], constrained_layout=False)\n",
    "ax = plt.subplot(1, 1, 1)\n",
    "for i in range(Y_order.shape[1]):\n",
    "    x = np.arange(Y_order.shape[-1])\n",
    "    ax.plot(x, Y_order[0,i,:])"
   ]
  },
  {
   "cell_type": "code",
   "execution_count": null,
   "id": "af276a29",
   "metadata": {},
   "outputs": [],
   "source": [
    "t2sync"
   ]
  },
  {
   "cell_type": "code",
   "execution_count": null,
   "id": "317b23ac",
   "metadata": {},
   "outputs": [],
   "source": [
    "Y_width[:,:,-1]"
   ]
  },
  {
   "cell_type": "code",
   "execution_count": null,
   "id": "ac2f0809",
   "metadata": {},
   "outputs": [],
   "source": [
    "x = Y_width[0,0,:]"
   ]
  },
  {
   "cell_type": "code",
   "execution_count": null,
   "id": "19643014",
   "metadata": {},
   "outputs": [],
   "source": [
    "x"
   ]
  },
  {
   "cell_type": "code",
   "execution_count": null,
   "id": "65f171b3",
   "metadata": {},
   "outputs": [],
   "source": [
    "np.min(np.where(x==0))"
   ]
  },
  {
   "cell_type": "code",
   "execution_count": null,
   "id": "553a6c9d",
   "metadata": {},
   "outputs": [],
   "source": [
    "x0 = np.array([1,2,3])"
   ]
  },
  {
   "cell_type": "code",
   "execution_count": null,
   "id": "f4ef6254",
   "metadata": {},
   "outputs": [],
   "source": [
    "np.where(x0==0)"
   ]
  },
  {
   "cell_type": "code",
   "execution_count": null,
   "id": "340ce121",
   "metadata": {},
   "outputs": [],
   "source": [
    "np.min(np.where(x0==0))"
   ]
  },
  {
   "cell_type": "code",
   "execution_count": null,
   "id": "a9bee6a8",
   "metadata": {},
   "outputs": [],
   "source": []
  }
 ],
 "metadata": {
  "@webio": {
   "lastCommId": null,
   "lastKernelId": null
  },
  "kernelspec": {
   "display_name": "hlyuenv",
   "language": "python",
   "name": "hlyuenv"
  },
  "language_info": {
   "codemirror_mode": {
    "name": "ipython",
    "version": 3
   },
   "file_extension": ".py",
   "mimetype": "text/x-python",
   "name": "python",
   "nbconvert_exporter": "python",
   "pygments_lexer": "ipython3",
   "version": "3.9.13"
  }
 },
 "nbformat": 4,
 "nbformat_minor": 5
}
